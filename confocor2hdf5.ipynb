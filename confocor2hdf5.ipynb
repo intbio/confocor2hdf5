{
 "cells": [
  {
   "cell_type": "code",
   "execution_count": 1,
   "metadata": {},
   "outputs": [],
   "source": [
    "import phconvert as phc\n",
    "# Special thanks to Christoph Gohlke <http://www.lfd.uci.edu/~gohlke/>\n",
    "from fcsfiles import ConfoCor3Raw\n",
    "import numpy as np\n",
    "import glob"
   ]
  },
  {
   "cell_type": "markdown",
   "metadata": {},
   "source": [
    "### Importing and preparing confocor raw files"
   ]
  },
  {
   "cell_type": "code",
   "execution_count": 2,
   "metadata": {},
   "outputs": [],
   "source": [
    "ch1raw=ConfoCor3Raw('DATA/mono_prox_8%_Ch1.raw')\n",
    "ch2raw=ConfoCor3Raw('DATA/mono_prox_8%_Ch2.raw')\n",
    "\n",
    "ch1raw._fh.seek(128)\n",
    "# Interphoton delays, timeunit is 1.0/ch1raw.frequency\n",
    "times = np.fromfile(ch1raw._fh, dtype='<u4', count=-1)\n",
    "# converting from delays to arrival times\n",
    "times_acceptor = np.cumsum(times.astype('u8'))\n",
    "\n",
    "ch2raw._fh.seek(128)\n",
    "times = np.fromfile(ch2raw._fh, dtype='<u4', count=-1)\n",
    "times_donor = np.cumsum(times.astype('u8'))\n",
    "\n",
    "# Creating 2d adday with boolean mask for acceptor\n",
    "# 1 3 5 7 2 4 6  - arrival times\n",
    "# 0 0 0 0 1 1 1  - acceptor mask\n",
    "df = np.hstack([np.vstack( [   times_donor, np.zeros(   times_donor.size)] ),\n",
    "                np.vstack( [times_acceptor,  np.ones(times_acceptor.size)] )]).T\n",
    "\n",
    "# sorting photons\n",
    "# [1,2,3,4,5,6,7] - timestamps\n",
    "# [0,1,0,1,0,1,0] - acceptor mask\n",
    "df_sorted = df[np.argsort(df[:,0])].T"
   ]
  },
  {
   "cell_type": "code",
   "execution_count": 6,
   "metadata": {},
   "outputs": [
    {
     "name": "stdout",
     "output_type": "stream",
     "text": [
      "Saving: mononucleosome.h5\n"
     ]
    }
   ],
   "source": [
    "timestamps=df_sorted[0].astype('int64')\n",
    "timestamps_unit = 1.0/ch1raw.frequency\n",
    "\n",
    "#mask, donor - 0, acceptor - 1, not boolean as there can be multiple detectors\n",
    "detectors=df_sorted[1].astype('uint8') \n",
    "\n",
    "description = 'Super description'\n",
    "author = 'best author'\n",
    "author_affiliation = 'Moscow State Uni'\n",
    "\n",
    "sample_name = 'super sample'\n",
    "buffer_name = 'super buffer'\n",
    "dye_names = 'Cy3, Cy5'   # Comma separates names of fluorophores\n",
    "\n",
    "\n",
    "\n",
    "\n",
    "photon_data = dict(\n",
    "    timestamps=timestamps,\n",
    "    detectors=detectors,\n",
    "    timestamps_specs={'timestamps_unit': timestamps_unit})\n",
    "\n",
    "setup = dict(\n",
    "    ## Mandatory fields\n",
    "    num_pixels = 2,                   # using 2 detectors\n",
    "    num_spots = 1,                    # a single confoca excitation\n",
    "    num_spectral_ch = 2,              # donor and acceptor detection \n",
    "    num_polarization_ch = 1,          # no polarization selection \n",
    "    num_split_ch = 1,                 # no beam splitter\n",
    "    modulated_excitation = False,     # CW excitation, no modulation \n",
    "    excitation_alternated = [False],  # CW excitation, no modulation \n",
    "    lifetime = False,                 # no TCSPC in detection\n",
    "    \n",
    "    ## Optional fields\n",
    "    excitation_wavelengths = [532e-9],         # List of excitation wavelenghts\n",
    "    excitation_cw = [True],                    # List of booleans, True if wavelength is CW\n",
    "    detection_wavelengths = [580e-9, 640e-9],  # Nominal center wavelength \n",
    "                                               # each for detection ch\n",
    ")\n",
    "\n",
    "# can be skiped\n",
    "identity = dict(\n",
    "    author=author,\n",
    "    author_affiliation=author_affiliation)\n",
    "\n",
    "measurement_specs = dict(\n",
    "    measurement_type = 'smFRET',\n",
    "    detectors_specs = {'spectral_ch1': [0],  # list of donor's detector IDs\n",
    "                       'spectral_ch2': [1]}  # list of acceptor's detector IDs\n",
    "    )\n",
    "\n",
    "photon_data['measurement_specs'] = measurement_specs\n",
    "\n",
    "data = dict(\n",
    "    description=description,\n",
    "    photon_data = photon_data,\n",
    "    setup=setup,\n",
    "    identity=identity\n",
    ")\n",
    "phc.hdf5.save_photon_hdf5(data, h5_fname='some_data.h5', overwrite=True)"
   ]
  },
  {
   "cell_type": "markdown",
   "metadata": {},
   "source": [
    "### useful function for bulk convertion\n",
    "Zeiss Confocor files contain unique experiment ID\n",
    "\n",
    "This function reads list of input files and returns dictionary:\n",
    "\n",
    "{'experimental id' : {0:'channel1 filename', 1:'channel2 filename'}...}"
   ]
  },
  {
   "cell_type": "code",
   "execution_count": 25,
   "metadata": {},
   "outputs": [
    {
     "name": "stdout",
     "output_type": "stream",
     "text": [
      "{'15e04f844a12265e6359ba3cb2f7a3d': {0: 'DATA/di_prox_8%_Ch1.raw', 1: 'DATA/di_prox_8%_Ch2.raw'}, '6d05146b4043d2a55d3f0daa5d6c810c': {0: 'DATA/di_prox_20%_1_Ch1.raw', 1: 'DATA/di_prox_20%_1_Ch2.raw'}, '5303c85644f5a8469a4ee9af6531c997': {0: 'DATA/di_prox_20%_2_Ch1.raw', 1: 'DATA/di_prox_20%_2_Ch2.raw'}, 'd7d5b0804c999f93a143d689d930040c': {0: 'DATA/mono_prox_40%_2_Ch1.raw', 1: 'DATA/mono_prox_40%_2_Ch2.raw'}, 'cdf51d6c4aef5eaadeaf5586bc4b8645': {0: 'DATA/di_prox_40%_2_Ch1.raw', 1: 'DATA/di_prox_40%_2_Ch2.raw'}, '48513d74d0223884e071ea64586dd55': {0: 'DATA/bckgrnd_40%_Ch1.raw', 1: 'DATA/bckgrnd_40%_Ch2.raw'}, 'd59147244411113f36c6fe84bee1d2f': {0: 'DATA/mono_prox_8%_Ch1.raw', 1: 'DATA/mono_prox_8%_Ch2.raw'}, '667977364cf5d896857bd9b717242a4d': {0: 'DATA/di_prox_40%_1_Ch1.raw', 1: 'DATA/di_prox_40%_1_Ch2.raw'}, 'f39d44549e2e450efe1b8a17aa411f4': {0: 'DATA/mono_prox_40%_1_Ch1.raw', 1: 'DATA/mono_prox_40%_1_Ch2.raw'}}\n"
     ]
    }
   ],
   "source": [
    "def find_paired_Confocorfiles(filenames):\n",
    "    ids={}\n",
    "    for name in filenames:\n",
    "        t=ConfoCor3Raw(name)\n",
    "        if not (t.measurement_identifier in ids):\n",
    "            ids[t.measurement_identifier]={t.channel:name}\n",
    "        else:\n",
    "            ids[t.measurement_identifier] [t.channel]=name\n",
    "    for exp_id in ids.items():\n",
    "        if len(exp_id[1]) != 2:\n",
    "            ids.pop(exp_id[0])\n",
    "    return ids\n",
    "\n",
    "namelist=glob.glob(\"DATA/*.raw\")\n",
    "print find_paired_Confocorfiles(namelist)"
   ]
  }
 ],
 "metadata": {
  "anaconda-cloud": {},
  "kernelspec": {
   "display_name": "Python [conda env:fretbursts]",
   "language": "python",
   "name": "conda-env-fretbursts-py"
  },
  "language_info": {
   "codemirror_mode": {
    "name": "ipython",
    "version": 2
   },
   "file_extension": ".py",
   "mimetype": "text/x-python",
   "name": "python",
   "nbconvert_exporter": "python",
   "pygments_lexer": "ipython2",
   "version": "2.7.14"
  },
  "widgets": {
   "state": {},
   "version": "1.1.1"
  }
 },
 "nbformat": 4,
 "nbformat_minor": 2
}
